{
 "cells": [
  {
   "cell_type": "code",
   "execution_count": null,
   "metadata": {},
   "outputs": [],
   "source": [
    "import os\n",
    "from gpt_index.evaluation import DatasetGenerator, QueryResponseEvaluator\n",
    "from gpt_index import SimpleDirectoryReader, GPTSimpleVectorIndex, ServiceContext, LLMPredictor, Response\n",
    "from langchain.chat_models import ChatOpenAI"
   ]
  },
  {
   "cell_type": "code",
   "execution_count": null,
   "metadata": {},
   "outputs": [],
   "source": [
    "OPENAI_API_KEY = os.environ.get('OPENAI_API_KEY')"
   ]
  },
  {
   "cell_type": "code",
   "execution_count": null,
   "metadata": {},
   "outputs": [],
   "source": [
    "# read the questions back into an array\n",
    "with open('data/questions.txt', 'r') as f:\n",
    "    eval_questions = f.read().splitlines()\n",
    "     "
   ]
  }
 ],
 "metadata": {
  "language_info": {
   "name": "python"
  }
 },
 "nbformat": 4,
 "nbformat_minor": 2
}
